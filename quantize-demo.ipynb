{
 "cells": [
  {
   "cell_type": "markdown",
   "metadata": {},
   "source": [
    "<!-- 这里是关于biac compensation方法的使用样例。您可以按照此样例将bias compensation应用于您的代码中，可以在完全不增加额外时间和空间复杂度的前提下，极大地降低量化层的输出误差，从而有效提升量化模型在低位宽量化条件下的任务性能。 -->\n",
    "Here is a demo of the bias compensation method. You can follow this example to apply bias compensation to your code. With no additional time and space complexity, it can greatly reduce the output error of the quantization layer, thereby effectively improving the task performance of the quantized model under low bit width quantization conditions."
   ]
  },
  {
   "cell_type": "markdown",
   "metadata": {},
   "source": [
    "First, we need to select a layer for quantization.\n",
    "Here, we select a layer of ViT-T model.\n",
    "In addition to selecting a layer of model, you can also choose blocks of model for compensation."
   ]
  },
  {
   "cell_type": "code",
   "execution_count": 93,
   "metadata": {},
   "outputs": [],
   "source": [
    "import os\n",
    "import torch\n",
    "import timm\n",
    "from torch import nn\n",
    "\n",
    "name = 'vit_tiny_patch16_224'\n",
    "vit = timm.create_model(name, pretrained=True)\n",
    "layer = vit.blocks[0].attn.qkv"
   ]
  },
  {
   "cell_type": "markdown",
   "metadata": {},
   "source": [
    "Next, we can apply quantizer and BC module to the layer.\n",
    "We utilize the quantization API to apply bias compensation to the quantized layer. \n",
    "The quantization API referenced form AutoQNN.\n",
    "If there is a post quantizer for the quantized layer, you can use the nn.Sequential module to combine the post quantizer and bias compensation module."
   ]
  },
  {
   "cell_type": "code",
   "execution_count": 98,
   "metadata": {},
   "outputs": [
    {
     "name": "stdout",
     "output_type": "stream",
     "text": [
      "Linear(\n",
      "  in_features=192, out_features=576, bias=True\n",
      "  (quantized_weight_module): FixedPointQunatization()\n",
      "  (quantized_act0_post_module): BiasCompensation()\n",
      ")\n"
     ]
    }
   ],
   "source": [
    "from bias_compensation.quantizers.BiasCompensation import BiasCompensation\n",
    "from bias_compensation.quantizers.fixedpointQ import FixedPointQunatization\n",
    "from bias_compensation.quantize.quantize import quantize_module_act,quantize_module_weight\n",
    "import copy\n",
    "\n",
    "layer = vit.blocks[0].attn.qkv # layer or block that you want to compensation for\n",
    "q_layer = copy.deepcopy(layer)\n",
    "channel_size = 576 # vector size for bc vector, which should be completely divided by match the output size\n",
    "channel_axis = (-1,) # the dims of output tensor\n",
    "# Obtain bc object, which is quantizer\n",
    "bc = BiasCompensation(channel_size=channel_size, channel_axis=channel_axis)\n",
    "quantizer = FixedPointQunatization(bitwidth=4)\n",
    "# Apply this quantizer to the layer output\n",
    "quantize_module_weight(q_layer,quantizer,'weight',PTQ=True)\n",
    "quantize_module_act(q_layer,bc,act_id=0,pre=False)\n",
    "print(q_layer)"
   ]
  },
  {
   "cell_type": "code",
   "execution_count": 97,
   "metadata": {},
   "outputs": [
    {
     "ename": "SyntaxError",
     "evalue": "invalid syntax (3302728055.py, line 1)",
     "output_type": "error",
     "traceback": [
      "\u001b[0;36m  File \u001b[0;32m\"/tmp/ipykernel_462/3302728055.py\"\u001b[0;36m, line \u001b[0;32m1\u001b[0m\n\u001b[0;31m    import bias-compensation\u001b[0m\n\u001b[0m               ^\u001b[0m\n\u001b[0;31mSyntaxError\u001b[0m\u001b[0;31m:\u001b[0m invalid syntax\n"
     ]
    }
   ],
   "source": [
    "import bias-compensation"
   ]
  },
  {
   "cell_type": "code",
   "execution_count": 64,
   "metadata": {},
   "outputs": [
    {
     "data": {
      "text/plain": [
       "<matplotlib.legend.Legend at 0x7f25d5a29510>"
      ]
     },
     "execution_count": 64,
     "metadata": {},
     "output_type": "execute_result"
    },
    {
     "data": {
      "image/png": "[encoded data removed]",
      "text/plain": [
       "<Figure size 432x288 with 1 Axes>"
      ]
     },
     "metadata": {
      "needs_background": "light"
     },
     "output_type": "display_data"
    }
   ],
   "source": [
    "import matplotlib.pyplot as plt\n",
    "_ = plt.hist(layer.weight.data.cpu().flatten(),bins=100,label=\"Float\")\n",
    "_ = plt.hist(q_layer.weight.data.cpu().flatten(),bins=100,label=\"Quantized\")\n",
    "plt.legend()"
   ]
  },
  {
   "cell_type": "markdown",
   "metadata": {},
   "source": [
    "To set different quantizers for the quantized layer, you can follow the steps below."
   ]
  },
  {
   "cell_type": "code",
   "execution_count": 35,
   "metadata": {},
   "outputs": [
    {
     "name": "stdout",
     "output_type": "stream",
     "text": [
      "Linear(\n",
      "  in_features=192, out_features=576, bias=True\n",
      "  (quantized_weight_module): Identity()\n",
      "  (quantized_act0_post_module): Identity()\n",
      ")\n"
     ]
    }
   ],
   "source": [
    "\n",
    "q_layer.quantized_weight_module = nn.Identity()\n",
    "q_layer.quantized_act0_post_module = nn.Identity()\n",
    "print(q_layer)"
   ]
  },
  {
   "cell_type": "markdown",
   "metadata": {},
   "source": [
    "To align the quantized and float layers using our BC approach, please follow these instructions."
   ]
  },
  {
   "cell_type": "code",
   "execution_count": 36,
   "metadata": {},
   "outputs": [],
   "source": [
    "q_layer.quantized_weight_module = quantizer\n",
    "q_layer.quantized_act0_post_module = bc\n",
    "calibra_data = torch.rand(1,1024,192)\n",
    "layer.eval()\n",
    "with torch.no_grad():\n",
    "    float_output = layer(calibra_data)\n",
    "    quantized_output = q_layer(calibra_data)\n",
    "    bc.update(float_output,quantized_output)"
   ]
  },
  {
   "cell_type": "markdown",
   "metadata": {},
   "source": [
    "Finally, we evaluate the output error with and without BC to assess its impact."
   ]
  },
  {
   "cell_type": "code",
   "execution_count": 92,
   "metadata": {},
   "outputs": [
    {
     "name": "stdout",
     "output_type": "stream",
     "text": [
      "error without bc:  36148.8359375\n",
      "error with bc:  17170.2265625\n"
     ]
    },
    {
     "data": {
      "image/png": "[encoded data removed]",
      "text/plain": [
       "<Figure size 432x288 with 1 Axes>"
      ]
     },
     "metadata": {
      "needs_background": "light"
     },
     "output_type": "display_data"
    }
   ],
   "source": [
    "with torch.no_grad():\n",
    "    quantized_output_bc = q_layer(calibra_data)\n",
    "error1 = torch.sum(torch.abs(float_output-quantized_output))\n",
    "error2 = torch.sum(torch.abs(float_output-quantized_output_bc))\n",
    "print(\"error without bc: \",error1.item())\n",
    "print(\"error with bc: \",error2.item())\n",
    "plt.bar([1],[error1.item()],width=0.2,label=\"w/o BC\")\n",
    "plt.bar([2],[error2.item()],width=0.2,label=\"w BC\")\n",
    "plt.plot([1.1,1.9],[error2.item(),error2.item()],'k--')\n",
    "plt.plot([1.1,1.15],[error1.item(),error1.item()],'k--')\n",
    "plt.annotate('', xy=(1.125, error1.item()), xytext=(1.125, error2.item()),\n",
    "             arrowprops=dict(arrowstyle='<-', linewidth=2, color='k'))\n",
    "plt.annotate(\"-%.2f%% Error\"%((error1.item()-error2.item())/error1.item()*100), xy=(1.15, (error1.item()+error2.item())/2),color='k')\n",
    "plt.annotate('%.2e'%(error1.item()), xy=(0.9, error1.item()*1.006),color='k')\n",
    "plt.annotate('%.2e'%(error2.item()), xy=(1.9, error2.item()*1.02),color='k')\n",
    "plt.legend()\n",
    "plt.ylabel(\"Output Error\")\n",
    "_ = plt.xticks([1,2],[\"w/o BC\",\"w BC\"])"
   ]
  }
 ],
 "metadata": {
  "kernelspec": {
   "display_name": "base",
   "language": "python",
   "name": "python3"
  },
  "language_info": {
   "codemirror_mode": {
    "name": "ipython",
    "version": 3
   },
   "file_extension": ".py",
   "mimetype": "text/x-python",
   "name": "python",
   "nbconvert_exporter": "python",
   "pygments_lexer": "ipython3",
   "version": "3.7.11"
  }
 },
 "nbformat": 4,
 "nbformat_minor": 2
}
